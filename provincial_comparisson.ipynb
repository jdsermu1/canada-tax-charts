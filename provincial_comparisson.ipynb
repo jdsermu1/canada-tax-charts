{
 "cells": [
  {
   "cell_type": "code",
   "execution_count": 2,
   "metadata": {},
   "outputs": [],
   "source": [
    "import matplotlib.pyplot as plt\n",
    "import numpy as np\n",
    "import canada_tax_estimator as cte"
   ]
  },
  {
   "cell_type": "code",
   "execution_count": null,
   "metadata": {},
   "outputs": [],
   "source": [
    "class ProvinceTaxData():\n",
    "    def __init__(self, province, limits, rates):\n",
    "        self\n",
    "\n",
    "tax_brackets_limits = {\n",
    "    \"federal\": [\n",
    "        np.array([0, 55867, 111733, 173205, 246752]),\n",
    "        np.array([0.15, 0.205, 0.26, 0.29, 0.33]),\n",
    "    ],\n",
    "    \"newfoundland and labrador\": np.array([0, 43198, 86395, 154244, 215943, 275870, 551739, 1103478]),\n",
    "    \"prince edward\": np.array([0, 32656, 64313, 105000, 140000]),\n",
    "    \"nova scotia\": np.array([0, 29590, 59180, 93000, 150000]),\n",
    "    \"new brunswick\": np.array([0, 49958, 99916, 185064]),\n",
    "    \"quebec\": np.array([0, 51780, 103545, 126000]),\n",
    "    \"ontario\": np.array([0, 51446, 102894, 150000, 220000]),\n",
    "    \"manitoba\": np.array([0, 47000, 100000]),\n",
    "    \"saskatchewan\": np.array([0, 52057, 148734]),\n",
    "    \"alberta\": np.array([0, 148269, 177922, 237230, 355845]),\n",
    "    \"british columbia\": np.array([0, 47937, 95875, 110076, 133664, 181232, 252752]),\n",
    "    \"yukon\": np.array([0, 55867, 111733, 173205, 500000]),\n",
    "    \"northwest\": np.array([0, 50597, 101198, 164525]),\n",
    "    \"nunavut\": np.array([0, 53268, 106537, 173205]),\n",
    "}\n",
    "\n",
    "tax_brackets_rates = {\n",
    "    \"federal\": \n",
    "    # \"newfoundland and labrador\": np.array([0.087, 0.145, 0.158, 0.178, 0.198, 0.208, 0.213, 0.218]),\n",
    "    # \"prince edward\": np.array([0.0965, 0.1363, 0.1665, 0.18, 0.1875]),\n",
    "    # \"nova scotia\": np.array([0.0879, 0.1495, 0.1667, 0.175, 0.21]),\n",
    "    # \"new brunswick\": np.array([0.094, 0.14, 0.16, 0.195]),\n",
    "    # \"quebec\": np.array([0.14, 0.19, 0.24, 0.2575]),\n",
    "    \"ontario\": np.array([0.0505, 0.0915, 0.1116, 0.1216, 0.1316]),\n",
    "    # \"manitoba\": np.array([0.108, 0.1275, 0.174]),\n",
    "    # \"saskatchewan\": np.array([0.105, 0.125, 0.145]),\n",
    "    # \"alberta\": np.array([0.1, 0.12, 0.13, 0.14, 0.15]),\n",
    "    \"british columbia\": np.array([0.0506, 0.077, 0.105, 0.1229, 0.147, 0.168, 0.205]),\n",
    "    # \"yukon\": np.array([0.064, 0.09, 0.109, 0.128, 0.15]),\n",
    "    # \"northwest\": np.array([0.059, 0.086, 0.122, 0.145]),\n",
    "    # \"nunavut\": np.array([0.04, 0.07, 0.09, 0.115]),\n",
    "}\n",
    "\n",
    "provincial_ctes = {}\n"
   ]
  },
  {
   "cell_type": "code",
   "execution_count": null,
   "metadata": {},
   "outputs": [],
   "source": [
    "min_income, max_income, step = 200000, 500000, 500\n",
    "x = np.arange(min_income, max_income, 200)\n",
    "y_rates = {}\n",
    "for province in tax_brackets_limits:\n",
    "  if province != \"federal\":\n",
    "    y_rates[province] = np.zeros(len(x))\n",
    "    for i in range(len(x)):\n",
    "      y_rates[province][i] = overall_tax(x[i], province) / x[i]\n",
    "\n",
    "for province in y_rates:\n",
    "  plt.plot(x, y_rates[province], label=province)\n",
    "\n",
    "\n",
    "plt.legend(bbox_to_anchor =(1.55,-.02), loc='lower right')\n",
    "# plt.tight_layout()\n",
    "plt.xlabel(\"Income (CAD)\")\n",
    "plt.ylabel(\"Average Tax Rate (%)\")\n",
    "plt.title(\"Tax Rate vs. Income by Province\")\n",
    "plt.ticklabel_format(style='plain')\n",
    "plt.grid(True)\n",
    "plt.show()"
   ]
  }
 ],
 "metadata": {
  "kernelspec": {
   "display_name": "main",
   "language": "python",
   "name": "python3"
  },
  "language_info": {
   "codemirror_mode": {
    "name": "ipython",
    "version": 3
   },
   "file_extension": ".py",
   "mimetype": "text/x-python",
   "name": "python",
   "nbconvert_exporter": "python",
   "pygments_lexer": "ipython3",
   "version": "3.12.7"
  }
 },
 "nbformat": 4,
 "nbformat_minor": 2
}
